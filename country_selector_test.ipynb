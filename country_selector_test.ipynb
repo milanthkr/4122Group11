{
 "cells": [
  {
   "cell_type": "code",
   "execution_count": 3,
   "metadata": {},
   "outputs": [],
   "source": [
    "import pandas as pd\n",
    "import streamlit as st\n",
    "import altair as alt\n",
    "import matplotlib.pyplot as plt"
   ]
  },
  {
   "cell_type": "code",
   "execution_count": 4,
   "metadata": {},
   "outputs": [],
   "source": [
    "def load_data():\n",
    "    #Loading pre-processed data\n",
    "    df_countries = pd.read_csv('countries_per_capita.csv')\n",
    "    df_countries_totals = pd.read_csv('countries_total.csv')\n",
    "    return df_countries, df_countries_totals"
   ]
  },
  {
   "cell_type": "code",
   "execution_count": 5,
   "metadata": {},
   "outputs": [],
   "source": [
    "df_countries, df_countries_totals = load_data()"
   ]
  },
  {
   "cell_type": "code",
   "execution_count": 6,
   "metadata": {},
   "outputs": [],
   "source": [
    "#Select a list of countries!\n",
    "option = ['Barbados', 'Aruba', 'Philippines']\n",
    "df_selected = df_countries.loc[df_countries['Country'].isin(option)]"
   ]
  },
  {
   "cell_type": "code",
   "execution_count": 7,
   "metadata": {},
   "outputs": [
    {
     "name": "stderr",
     "output_type": "stream",
     "text": [
      "2021-04-22 18:06:53.026 INFO    numexpr.utils: NumExpr defaulting to 4 threads.\n"
     ]
    },
    {
     "data": {
      "text/html": [
       "\n",
       "<div id=\"altair-viz-9526cc61c4184e479c770af7bd6510d4\"></div>\n",
       "<script type=\"text/javascript\">\n",
       "  (function(spec, embedOpt){\n",
       "    let outputDiv = document.currentScript.previousElementSibling;\n",
       "    if (outputDiv.id !== \"altair-viz-9526cc61c4184e479c770af7bd6510d4\") {\n",
       "      outputDiv = document.getElementById(\"altair-viz-9526cc61c4184e479c770af7bd6510d4\");\n",
       "    }\n",
       "    const paths = {\n",
       "      \"vega\": \"https://cdn.jsdelivr.net/npm//vega@5?noext\",\n",
       "      \"vega-lib\": \"https://cdn.jsdelivr.net/npm//vega-lib?noext\",\n",
       "      \"vega-lite\": \"https://cdn.jsdelivr.net/npm//vega-lite@4.8.1?noext\",\n",
       "      \"vega-embed\": \"https://cdn.jsdelivr.net/npm//vega-embed@6?noext\",\n",
       "    };\n",
       "\n",
       "    function loadScript(lib) {\n",
       "      return new Promise(function(resolve, reject) {\n",
       "        var s = document.createElement('script');\n",
       "        s.src = paths[lib];\n",
       "        s.async = true;\n",
       "        s.onload = () => resolve(paths[lib]);\n",
       "        s.onerror = () => reject(`Error loading script: ${paths[lib]}`);\n",
       "        document.getElementsByTagName(\"head\")[0].appendChild(s);\n",
       "      });\n",
       "    }\n",
       "\n",
       "    function showError(err) {\n",
       "      outputDiv.innerHTML = `<div class=\"error\" style=\"color:red;\">${err}</div>`;\n",
       "      throw err;\n",
       "    }\n",
       "\n",
       "    function displayChart(vegaEmbed) {\n",
       "      vegaEmbed(outputDiv, spec, embedOpt)\n",
       "        .catch(err => showError(`Javascript Error: ${err.message}<br>This usually means there's a typo in your chart specification. See the javascript console for the full traceback.`));\n",
       "    }\n",
       "\n",
       "    if(typeof define === \"function\" && define.amd) {\n",
       "      requirejs.config({paths});\n",
       "      require([\"vega-embed\"], displayChart, err => showError(`Error loading script: ${err.message}`));\n",
       "    } else if (typeof vegaEmbed === \"function\") {\n",
       "      displayChart(vegaEmbed);\n",
       "    } else {\n",
       "      loadScript(\"vega\")\n",
       "        .then(() => loadScript(\"vega-lite\"))\n",
       "        .then(() => loadScript(\"vega-embed\"))\n",
       "        .catch(showError)\n",
       "        .then(() => displayChart(vegaEmbed));\n",
       "    }\n",
       "  })({\"config\": {\"view\": {\"continuousWidth\": 400, \"continuousHeight\": 300}}, \"data\": {\"name\": \"data-75a0a04be5fa50f6a004ef6b6cdb4d8d\"}, \"mark\": \"bar\", \"encoding\": {\"color\": {\"type\": \"nominal\", \"field\": \"Footprint\"}, \"x\": {\"type\": \"nominal\", \"field\": \"Country\", \"sort\": \"-y\"}, \"y\": {\"type\": \"quantitative\", \"field\": \"Total Ecological Footprint (per capita)\"}}, \"selection\": {\"selector001\": {\"type\": \"interval\", \"bind\": \"scales\", \"encodings\": [\"x\", \"y\"]}}, \"transform\": [{\"fold\": [\"Cropland Footprint\", \"Grazing Footprint\", \"Forest Footprint\", \"Carbon Footprint\", \"Fish Footprint\", \"No Footprint Component Data\"], \"as\": [\"Footprint\", \"Total Ecological Footprint (per capita)\"]}], \"$schema\": \"https://vega.github.io/schema/vega-lite/v4.8.1.json\", \"datasets\": {\"data-75a0a04be5fa50f6a004ef6b6cdb4d8d\": [{\"Unnamed: 0\": 7, \"Country\": \"Aruba\", \"Region\": \"Latin America\", \"Population (millions)\": 0.1, \"HDI\": null, \"GDP per Capita\": null, \"Cropland Footprint\": null, \"Grazing Footprint\": null, \"Forest Footprint\": null, \"Carbon Footprint\": null, \"Fish Footprint\": null, \"Total Ecological Footprint\": 11.88, \"Cropland\": null, \"Grazing Land\": null, \"Forest Land\": null, \"Fishing Water\": null, \"Urban Land\": null, \"Total Biocapacity\": 0.57, \"Biocapacity Deficit or Reserve\": -11.31, \"Earths Required\": 6.86, \"Countries Required\": 20.69, \"Data Quality\": \"2\", \"No Footprint Component Data\": 11.88, \"No Biocapacity Component Data\": 11.88}, {\"Unnamed: 0\": 14, \"Country\": \"Barbados\", \"Region\": \"Latin America\", \"Population (millions)\": 0.28, \"HDI\": 0.79, \"GDP per Capita\": 15722.8, \"Cropland Footprint\": 0.56, \"Grazing Footprint\": 0.24, \"Forest Footprint\": 0.14, \"Carbon Footprint\": 3.28, \"Fish Footprint\": 0.22, \"Total Ecological Footprint\": 4.48, \"Cropland\": 0.08, \"Grazing Land\": 0.0, \"Forest Land\": 0.02, \"Fishing Water\": 0.04, \"Urban Land\": 0.04, \"Total Biocapacity\": 0.19, \"Biocapacity Deficit or Reserve\": -4.29, \"Earths Required\": 2.58, \"Countries Required\": 23.79, \"Data Quality\": \"5\", \"No Footprint Component Data\": null, \"No Biocapacity Component Data\": null}, {\"Unnamed: 0\": 135, \"Country\": \"Philippines\", \"Region\": \"Asia-Pacific\", \"Population (millions)\": 96.71, \"HDI\": 0.66, \"GDP per Capita\": 2379.44, \"Cropland Footprint\": 0.36, \"Grazing Footprint\": 0.03, \"Forest Footprint\": 0.09, \"Carbon Footprint\": 0.34, \"Fish Footprint\": 0.23, \"Total Ecological Footprint\": 1.1, \"Cropland\": 0.32, \"Grazing Land\": 0.02, \"Forest Land\": 0.09, \"Fishing Water\": 0.07, \"Urban Land\": 0.05, \"Total Biocapacity\": 0.54, \"Biocapacity Deficit or Reserve\": -0.56, \"Earths Required\": 0.64, \"Countries Required\": 2.03, \"Data Quality\": \"5\", \"No Footprint Component Data\": null, \"No Biocapacity Component Data\": null}]}}, {\"mode\": \"vega-lite\"});\n",
       "</script>"
      ],
      "text/plain": [
       "alt.Chart(...)"
      ]
     },
     "execution_count": 7,
     "metadata": {},
     "output_type": "execute_result"
    }
   ],
   "source": [
    "#Plotting Total Ecological Footprint per capita\n",
    "alt.Chart(df_selected).transform_fold(\n",
    "    ['Cropland Footprint', 'Grazing Footprint', 'Forest Footprint', 'Carbon Footprint', 'Fish Footprint', 'No Footprint Component Data'], \n",
    "    as_=['Footprint', 'Total Ecological Footprint (per capita)']\n",
    ").mark_bar().encode(\n",
    "    x=alt.X('Country:N', sort='-y'),\n",
    "    y='Total Ecological Footprint (per capita):Q',\n",
    "    color='Footprint:N'\n",
    ").interactive()"
   ]
  },
  {
   "cell_type": "code",
   "execution_count": null,
   "metadata": {},
   "outputs": [],
   "source": []
  }
 ],
 "metadata": {
  "kernelspec": {
   "display_name": "Python 3",
   "language": "python",
   "name": "python3"
  },
  "language_info": {
   "codemirror_mode": {
    "name": "ipython",
    "version": 3
   },
   "file_extension": ".py",
   "mimetype": "text/x-python",
   "name": "python",
   "nbconvert_exporter": "python",
   "pygments_lexer": "ipython3",
   "version": "3.8.5"
  }
 },
 "nbformat": 4,
 "nbformat_minor": 4
}
